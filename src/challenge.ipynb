{
 "cells": [
  {
   "cell_type": "markdown",
   "metadata": {},
   "source": [
    "En este archivo puedes escribir lo que estimes conveniente. Te recomendamos detallar tu solución y todas las suposiciones que estás considerando. Aquí puedes ejecutar las funciones que definiste en los otros archivos de la carpeta src, medir el tiempo, memoria, etc."
   ]
  },
  {
   "cell_type": "code",
   "execution_count": 14,
   "metadata": {},
   "outputs": [
    {
     "name": "stdout",
     "output_type": "stream",
     "text": [
      "Memoria utilizada por mi_script.py: 90384.0 bytes\n"
     ]
    }
   ],
   "source": [
    "import psutil\n",
    "import subprocess\n",
    "import time\n",
    "\n",
    "# Ejecutar el script y medir su uso de memoria\n",
    "process = subprocess.Popen([\"python\", \"/Users/mema/Documents/Projects/latam_challenge/src/q1/time.py\"], stdout=subprocess.PIPE, stderr=subprocess.PIPE)\n",
    "time.sleep(1)  # Esperar un segundo para que el proceso comience a ejecutarse\n",
    "\n",
    "# Obtener información sobre el uso de recursos del sistema\n",
    "try:\n",
    "    memoria = psutil.Process(process.pid).memory_info()\n",
    "    # Imprimir la cantidad de memoria utilizada por el proceso\n",
    "    print(f\"Memoria utilizada por mi_script.py: {memoria.rss/1024} Kilobytes\")\n",
    "except psutil.NoSuchProcess:\n",
    "    print(\"El proceso ya ha finalizado.\")\n",
    "\n"
   ]
  }
 ],
 "metadata": {
  "kernelspec": {
   "display_name": "venv",
   "language": "python",
   "name": "python3"
  },
  "language_info": {
   "codemirror_mode": {
    "name": "ipython",
    "version": 3
   },
   "file_extension": ".py",
   "mimetype": "text/x-python",
   "name": "python",
   "nbconvert_exporter": "python",
   "pygments_lexer": "ipython3",
   "version": "3.9.6"
  },
  "orig_nbformat": 4
 },
 "nbformat": 4,
 "nbformat_minor": 2
}
